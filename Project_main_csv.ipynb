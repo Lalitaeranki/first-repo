{
 "cells": [
  {
   "cell_type": "code",
   "execution_count": 1,
   "metadata": {},
   "outputs": [],
   "source": [
    "#Import Dependencies\n",
    "import pandas as pd\n",
    "import numpy as np\n",
    "import matplotlib.pyplot as plt\n",
    "import datetime"
   ]
  },
  {
   "cell_type": "code",
   "execution_count": 2,
   "metadata": {},
   "outputs": [],
   "source": [
    "#Read the cvs file\n",
    "\n",
    "Traffic_pd=pd.read_csv(\"Traffic_Violations.csv\")"
   ]
  },
  {
   "cell_type": "code",
   "execution_count": 3,
   "metadata": {},
   "outputs": [
    {
     "data": {
      "text/html": [
       "<div>\n",
       "<style scoped>\n",
       "    .dataframe tbody tr th:only-of-type {\n",
       "        vertical-align: middle;\n",
       "    }\n",
       "\n",
       "    .dataframe tbody tr th {\n",
       "        vertical-align: top;\n",
       "    }\n",
       "\n",
       "    .dataframe thead th {\n",
       "        text-align: right;\n",
       "    }\n",
       "</style>\n",
       "<table border=\"1\" class=\"dataframe\">\n",
       "  <thead>\n",
       "    <tr style=\"text-align: right;\">\n",
       "      <th></th>\n",
       "      <th>Date Of Stop</th>\n",
       "      <th>Time Of Stop</th>\n",
       "      <th>Agency</th>\n",
       "      <th>SubAgency</th>\n",
       "      <th>Description</th>\n",
       "      <th>Location</th>\n",
       "      <th>Latitude</th>\n",
       "      <th>Longitude</th>\n",
       "      <th>Accident</th>\n",
       "      <th>Belts</th>\n",
       "      <th>...</th>\n",
       "      <th>Charge</th>\n",
       "      <th>Article</th>\n",
       "      <th>Contributed To Accident</th>\n",
       "      <th>Race</th>\n",
       "      <th>Gender</th>\n",
       "      <th>Driver City</th>\n",
       "      <th>Driver State</th>\n",
       "      <th>DL State</th>\n",
       "      <th>Arrest Type</th>\n",
       "      <th>Geolocation</th>\n",
       "    </tr>\n",
       "  </thead>\n",
       "  <tbody>\n",
       "    <tr>\n",
       "      <th>0</th>\n",
       "      <td>09/24/2013</td>\n",
       "      <td>17:11:00</td>\n",
       "      <td>MCP</td>\n",
       "      <td>3rd district, Silver Spring</td>\n",
       "      <td>DRIVING VEHICLE ON HIGHWAY WITH SUSPENDED REGI...</td>\n",
       "      <td>8804 FLOWER AVE</td>\n",
       "      <td>NaN</td>\n",
       "      <td>NaN</td>\n",
       "      <td>No</td>\n",
       "      <td>No</td>\n",
       "      <td>...</td>\n",
       "      <td>13-401(h)</td>\n",
       "      <td>Transportation Article</td>\n",
       "      <td>No</td>\n",
       "      <td>BLACK</td>\n",
       "      <td>M</td>\n",
       "      <td>TAKOMA PARK</td>\n",
       "      <td>MD</td>\n",
       "      <td>MD</td>\n",
       "      <td>A - Marked Patrol</td>\n",
       "      <td>NaN</td>\n",
       "    </tr>\n",
       "    <tr>\n",
       "      <th>1</th>\n",
       "      <td>08/29/2017</td>\n",
       "      <td>10:19:00</td>\n",
       "      <td>MCP</td>\n",
       "      <td>2nd district, Bethesda</td>\n",
       "      <td>DRIVER FAILURE TO OBEY PROPERLY PLACED TRAFFIC...</td>\n",
       "      <td>WISCONSIN AVE@ ELM ST</td>\n",
       "      <td>38.981725</td>\n",
       "      <td>-77.092757</td>\n",
       "      <td>No</td>\n",
       "      <td>No</td>\n",
       "      <td>...</td>\n",
       "      <td>21-201(a1)</td>\n",
       "      <td>Transportation Article</td>\n",
       "      <td>No</td>\n",
       "      <td>WHITE</td>\n",
       "      <td>F</td>\n",
       "      <td>FAIRFAX STATION</td>\n",
       "      <td>VA</td>\n",
       "      <td>VA</td>\n",
       "      <td>A - Marked Patrol</td>\n",
       "      <td>(38.981725, -77.0927566666667)</td>\n",
       "    </tr>\n",
       "    <tr>\n",
       "      <th>2</th>\n",
       "      <td>12/01/2014</td>\n",
       "      <td>12:52:00</td>\n",
       "      <td>MCP</td>\n",
       "      <td>6th district, Gaithersburg / Montgomery Village</td>\n",
       "      <td>FAILURE STOP AND YIELD AT THRU HWY</td>\n",
       "      <td>CHRISTOPHER AVE/MONTGOMERY VILLAGE AVE</td>\n",
       "      <td>39.162888</td>\n",
       "      <td>-77.229088</td>\n",
       "      <td>No</td>\n",
       "      <td>No</td>\n",
       "      <td>...</td>\n",
       "      <td>21-403(b)</td>\n",
       "      <td>Transportation Article</td>\n",
       "      <td>No</td>\n",
       "      <td>BLACK</td>\n",
       "      <td>F</td>\n",
       "      <td>UPPER MARLBORO</td>\n",
       "      <td>MD</td>\n",
       "      <td>MD</td>\n",
       "      <td>A - Marked Patrol</td>\n",
       "      <td>(39.1628883333333, -77.2290883333333)</td>\n",
       "    </tr>\n",
       "    <tr>\n",
       "      <th>3</th>\n",
       "      <td>08/29/2017</td>\n",
       "      <td>09:22:00</td>\n",
       "      <td>MCP</td>\n",
       "      <td>3rd district, Silver Spring</td>\n",
       "      <td>FAILURE YIELD RIGHT OF WAY ON U TURN</td>\n",
       "      <td>CHERRY HILL RD./CALVERTON BLVD.</td>\n",
       "      <td>39.056975</td>\n",
       "      <td>-76.954633</td>\n",
       "      <td>No</td>\n",
       "      <td>No</td>\n",
       "      <td>...</td>\n",
       "      <td>21-402(b)</td>\n",
       "      <td>Transportation Article</td>\n",
       "      <td>No</td>\n",
       "      <td>BLACK</td>\n",
       "      <td>M</td>\n",
       "      <td>FORT WASHINGTON</td>\n",
       "      <td>MD</td>\n",
       "      <td>MD</td>\n",
       "      <td>A - Marked Patrol</td>\n",
       "      <td>(39.056975, -76.9546333333333)</td>\n",
       "    </tr>\n",
       "    <tr>\n",
       "      <th>4</th>\n",
       "      <td>08/28/2017</td>\n",
       "      <td>23:41:00</td>\n",
       "      <td>MCP</td>\n",
       "      <td>6th district, Gaithersburg / Montgomery Village</td>\n",
       "      <td>FAILURE OF DR. TO MAKE LANE CHANGE TO AVAIL. L...</td>\n",
       "      <td>355 @ SOUTH WESTLAND DRIVE</td>\n",
       "      <td>NaN</td>\n",
       "      <td>NaN</td>\n",
       "      <td>No</td>\n",
       "      <td>No</td>\n",
       "      <td>...</td>\n",
       "      <td>21-405(e1)</td>\n",
       "      <td>Transportation Article</td>\n",
       "      <td>No</td>\n",
       "      <td>WHITE</td>\n",
       "      <td>M</td>\n",
       "      <td>GAITHERSBURG</td>\n",
       "      <td>MD</td>\n",
       "      <td>MD</td>\n",
       "      <td>A - Marked Patrol</td>\n",
       "      <td>NaN</td>\n",
       "    </tr>\n",
       "  </tbody>\n",
       "</table>\n",
       "<p>5 rows × 35 columns</p>\n",
       "</div>"
      ],
      "text/plain": [
       "  Date Of Stop Time Of Stop Agency  \\\n",
       "0   09/24/2013     17:11:00    MCP   \n",
       "1   08/29/2017     10:19:00    MCP   \n",
       "2   12/01/2014     12:52:00    MCP   \n",
       "3   08/29/2017     09:22:00    MCP   \n",
       "4   08/28/2017     23:41:00    MCP   \n",
       "\n",
       "                                         SubAgency  \\\n",
       "0                      3rd district, Silver Spring   \n",
       "1                           2nd district, Bethesda   \n",
       "2  6th district, Gaithersburg / Montgomery Village   \n",
       "3                      3rd district, Silver Spring   \n",
       "4  6th district, Gaithersburg / Montgomery Village   \n",
       "\n",
       "                                         Description  \\\n",
       "0  DRIVING VEHICLE ON HIGHWAY WITH SUSPENDED REGI...   \n",
       "1  DRIVER FAILURE TO OBEY PROPERLY PLACED TRAFFIC...   \n",
       "2                 FAILURE STOP AND YIELD AT THRU HWY   \n",
       "3               FAILURE YIELD RIGHT OF WAY ON U TURN   \n",
       "4  FAILURE OF DR. TO MAKE LANE CHANGE TO AVAIL. L...   \n",
       "\n",
       "                                 Location   Latitude  Longitude Accident  \\\n",
       "0                         8804 FLOWER AVE        NaN        NaN       No   \n",
       "1                   WISCONSIN AVE@ ELM ST  38.981725 -77.092757       No   \n",
       "2  CHRISTOPHER AVE/MONTGOMERY VILLAGE AVE  39.162888 -77.229088       No   \n",
       "3         CHERRY HILL RD./CALVERTON BLVD.  39.056975 -76.954633       No   \n",
       "4              355 @ SOUTH WESTLAND DRIVE        NaN        NaN       No   \n",
       "\n",
       "  Belts                  ...                        Charge  \\\n",
       "0    No                  ...                     13-401(h)   \n",
       "1    No                  ...                    21-201(a1)   \n",
       "2    No                  ...                     21-403(b)   \n",
       "3    No                  ...                     21-402(b)   \n",
       "4    No                  ...                    21-405(e1)   \n",
       "\n",
       "                  Article Contributed To Accident   Race Gender  \\\n",
       "0  Transportation Article                      No  BLACK      M   \n",
       "1  Transportation Article                      No  WHITE      F   \n",
       "2  Transportation Article                      No  BLACK      F   \n",
       "3  Transportation Article                      No  BLACK      M   \n",
       "4  Transportation Article                      No  WHITE      M   \n",
       "\n",
       "       Driver City Driver State DL State        Arrest Type  \\\n",
       "0      TAKOMA PARK           MD       MD  A - Marked Patrol   \n",
       "1  FAIRFAX STATION           VA       VA  A - Marked Patrol   \n",
       "2   UPPER MARLBORO           MD       MD  A - Marked Patrol   \n",
       "3  FORT WASHINGTON           MD       MD  A - Marked Patrol   \n",
       "4     GAITHERSBURG           MD       MD  A - Marked Patrol   \n",
       "\n",
       "                             Geolocation  \n",
       "0                                    NaN  \n",
       "1         (38.981725, -77.0927566666667)  \n",
       "2  (39.1628883333333, -77.2290883333333)  \n",
       "3         (39.056975, -76.9546333333333)  \n",
       "4                                    NaN  \n",
       "\n",
       "[5 rows x 35 columns]"
      ]
     },
     "execution_count": 3,
     "metadata": {},
     "output_type": "execute_result"
    }
   ],
   "source": [
    "Traffic_pd.head()"
   ]
  },
  {
   "cell_type": "code",
   "execution_count": 4,
   "metadata": {},
   "outputs": [
    {
     "data": {
      "text/plain": [
       "Index(['Date Of Stop', 'Time Of Stop', 'Agency', 'SubAgency', 'Description',\n",
       "       'Location', 'Latitude', 'Longitude', 'Accident', 'Belts',\n",
       "       'Personal Injury', 'Property Damage', 'Fatal', 'Commercial License',\n",
       "       'HAZMAT', 'Commercial Vehicle', 'Alcohol', 'Work Zone', 'State',\n",
       "       'VehicleType', 'Year', 'Make', 'Model', 'Color', 'Violation Type',\n",
       "       'Charge', 'Article', 'Contributed To Accident', 'Race', 'Gender',\n",
       "       'Driver City', 'Driver State', 'DL State', 'Arrest Type',\n",
       "       'Geolocation'],\n",
       "      dtype='object')"
      ]
     },
     "execution_count": 4,
     "metadata": {},
     "output_type": "execute_result"
    }
   ],
   "source": [
    "Traffic_pd.columns"
   ]
  },
  {
   "cell_type": "code",
   "execution_count": 5,
   "metadata": {},
   "outputs": [
    {
     "data": {
      "text/plain": [
       "Index(['Date Of Stop', 'Time Of Stop', 'Agency', 'SubAgency', 'Description',\n",
       "       'Location', 'Latitude', 'Longitude', 'Accident', 'Belts',\n",
       "       'Personal Injury', 'Property Damage', 'Fatal', 'Commercial License',\n",
       "       'HAZMAT', 'Commercial Vehicle', 'Alcohol', 'Work Zone', 'State',\n",
       "       'VehicleType', 'Year Make', 'Make', 'Model', 'Color', 'Violation Type',\n",
       "       'Charge', 'Article', 'Contributed To Accident', 'Race', 'Gender',\n",
       "       'Driver City', 'Driver State', 'DL State', 'Arrest Type',\n",
       "       'Geolocation'],\n",
       "      dtype='object')"
      ]
     },
     "execution_count": 5,
     "metadata": {},
     "output_type": "execute_result"
    }
   ],
   "source": [
    "Traffic_pd=Traffic_pd.rename(columns={'Year':'Year Make'})\n",
    "Traffic_pd.columns"
   ]
  },
  {
   "cell_type": "code",
   "execution_count": 6,
   "metadata": {},
   "outputs": [],
   "source": [
    "#getting Year and month  using datetype\n",
    "\n",
    "\n",
    "Traffic_pd['Date Of Stop'] = pd.to_datetime(Traffic_pd['Date Of Stop'])\n",
    "#Traffic_pd['Date Of Stop'].dt.year\n",
    "Traffic_pd['Year'] = Traffic_pd['Date Of Stop'].dt.year\n",
    "Traffic_pd['Month'] =Traffic_pd['Date Of Stop'].dt.month"
   ]
  },
  {
   "cell_type": "code",
   "execution_count": 7,
   "metadata": {},
   "outputs": [
    {
     "data": {
      "text/plain": [
       "(1373693, 37)"
      ]
     },
     "execution_count": 7,
     "metadata": {},
     "output_type": "execute_result"
    }
   ],
   "source": [
    "Traffic_pd.shape\n"
   ]
  },
  {
   "cell_type": "code",
   "execution_count": 8,
   "metadata": {},
   "outputs": [],
   "source": [
    "main_traffic_data=Traffic_pd.drop(columns={'Agency', 'SubAgency','Personal Injury', 'Property Damage','Work Zone','Article', 'Accident'})"
   ]
  },
  {
   "cell_type": "code",
   "execution_count": 9,
   "metadata": {},
   "outputs": [],
   "source": [
    "main_traffic_data.columns\n",
    "final_data=main_traffic_data.drop(columns={'Location', 'Latitude','Longitude','Commercial License','Commercial Vehicle','Driver State','Arrest Type'})"
   ]
  },
  {
   "cell_type": "code",
   "execution_count": 10,
   "metadata": {},
   "outputs": [
    {
     "data": {
      "text/plain": [
       "(1373693, 23)"
      ]
     },
     "execution_count": 10,
     "metadata": {},
     "output_type": "execute_result"
    }
   ],
   "source": [
    "final_data.shape\n"
   ]
  },
  {
   "cell_type": "code",
   "execution_count": 11,
   "metadata": {},
   "outputs": [
    {
     "data": {
      "text/plain": [
       "Date Of Stop               1256658\n",
       "Time Of Stop               1256658\n",
       "Description                1256658\n",
       "Belts                      1256658\n",
       "Fatal                      1256658\n",
       "HAZMAT                     1256658\n",
       "Alcohol                    1256658\n",
       "State                      1256658\n",
       "VehicleType                1256658\n",
       "Year Make                  1256658\n",
       "Make                       1256658\n",
       "Model                      1256658\n",
       "Color                      1256658\n",
       "Violation Type             1256658\n",
       "Charge                     1256658\n",
       "Contributed To Accident    1256658\n",
       "Race                       1256658\n",
       "Gender                     1256658\n",
       "Driver City                1256658\n",
       "DL State                   1256658\n",
       "Geolocation                1256658\n",
       "Year                       1256658\n",
       "Month                      1256658\n",
       "dtype: int64"
      ]
     },
     "execution_count": 11,
     "metadata": {},
     "output_type": "execute_result"
    }
   ],
   "source": [
    "final_data.dropna(how='any',inplace=True)\n",
    "final_data.count()"
   ]
  },
  {
   "cell_type": "code",
   "execution_count": 110,
   "metadata": {},
   "outputs": [],
   "source": [
    "final_data.loc[final_data['Description'].str.contains('SPEED', case=False),'Description']='SPEEDING' \n",
    "final_data.loc[final_data['Description'].str.contains('SPEED', case=False),'Charge']='201-801'\n",
    "final_data.loc[final_data['Description'].str.contains('TRAFFIC CONTROL DEVICE', case=False),'Description']='TRAFFIC CONTROLDEVICE' \n",
    "final_data.loc[final_data['Description'].str.contains('TRAFFIC CONTROL DEVICE', case=False),'Charge']='21-201' \n"
   ]
  },
  {
   "cell_type": "code",
   "execution_count": 111,
   "metadata": {},
   "outputs": [],
   "source": [
    "final_data.loc[final_data['Description'].str.contains('REGISTRATION CARD|DISPLAY REG. CARD',case=False),'Description']='FAILURE TODISPLAY REGISTRATION CARD'\n",
    "final_data.loc[final_data['Description'].str.contains('REGISTRATION CARD|DISPLAY REG. CARD',case=False),'Charge']='13-409'"
   ]
  },
  {
   "cell_type": "code",
   "execution_count": 112,
   "metadata": {},
   "outputs": [],
   "source": [
    "final_data.loc[final_data['Description'].str.contains('SUSPENDED REGISTRATION|UNREGISTERED MOTOR|UNPAID REGISTRATION|CANCELLED REGISTRATION|REVOKED REGISTRATION|UNREG. VEH| PROPER VEHICLE I.D', case=False),'Description']='SUSPENDED REGISTRATION' \n",
    "final_data.loc[final_data['Description'].str.contains('SUSPENDED REGISTRATION|UNREGISTERED MOTOR|UNPAID REGISTRATION|CANCELLED REGISTRATION|REVOKED REGISTRATION|UNREG. VEH| PROPER VEHICLE I.D', case=False),'Charge']='13-401' "
   ]
  },
  {
   "cell_type": "code",
   "execution_count": 113,
   "metadata": {},
   "outputs": [],
   "source": [
    "final_data.loc[final_data['Description'].str.contains('STOP AT STOP|YIELD SIGN', case=False),'Description']='STOP AT STOP' \n",
    "final_data.loc[final_data['Description'].str.contains('STOP AT STOP|YIELD SIGN', case=False),'Charge']='21-707'"
   ]
  },
  {
   "cell_type": "code",
   "execution_count": 114,
   "metadata": {},
   "outputs": [],
   "source": [
    "\n",
    "final_data.loc[final_data['Description'].str.contains('DISPLAY LICENSE|HAVE LIC.|FALSE AND FICTITIOUS NAME|SIGN SIGNATURE|LICENSE',case=False),'Description']='SUSPENDED LICENSE'\n",
    "final_data.loc[final_data['Description'].str.contains('DISPLAY LICENSE|HAVE LIC.|FALSE AND FICTITIOUS NAME|SIGN SIGNATURE|LICENSE',case=False),'Charge']='16-112'"
   ]
  },
  {
   "cell_type": "code",
   "execution_count": 115,
   "metadata": {},
   "outputs": [],
   "source": [
    "final_data.loc[final_data['Description'].str.contains('ELECTRONIC|TEXT|TELEPHONE|ATEXT|WIRELESS COMMUNICATION|WRITING|SENDING|MSG.|PHONE|EAR'),'Description']=\"ELECTRONIC DEVICE DISTRACTION\"\n",
    "final_data.loc[final_data['Description'].str.contains('ELECTRONIC|TEXT|TELEPHONE|ATEXT|WIRELESS COMMUNICATION|WRITING|SENDING|MSG.|PHONE|EAR'),'Charge']=\"21-1124\""
   ]
  },
  {
   "cell_type": "code",
   "execution_count": 116,
   "metadata": {},
   "outputs": [],
   "source": [
    "final_data.loc[final_data['Description'].str.contains('REGISTRATION PLATE|VALIDATION TABS|PLATE|TAGS|REG. PLATE'),\"Description\"]=\"DISPLAY REGISTRATION PLATE\"\n",
    "final_data.loc[final_data['Description'].str.contains('REGISTRATION PLATE|VALIDATION TABS|PLATE|TAGS|REG. PLATE'),\"Charge\"]=\"13-411\""
   ]
  },
  {
   "cell_type": "code",
   "execution_count": 117,
   "metadata": {},
   "outputs": [],
   "source": [
    "final_data.loc[final_data['Description'].astype(str).str.contains('STOP LIGHTS',case=False),\"Description\"]=\"NOSTOP LIGHTS\"\n",
    "final_data.loc[final_data['Description'].astype(str).str.contains('STOP LIGHTS',case=False),\"Charge\"]=\"64\""
   ]
  },
  {
   "cell_type": "code",
   "execution_count": 118,
   "metadata": {},
   "outputs": [],
   "source": [
    "final_data.loc[final_data['Description'].astype(str).str.contains('seat|seatbelt|belt',case=False),\"Description\"]=\"NO SEAT BELT/CHILD SAFTEY\"\n",
    "final_data.loc[final_data['Description'].astype(str).str.contains('seat|seatbelt|belt',case=False),\"Charge\"]=\"22-412\""
   ]
  },
  {
   "cell_type": "code",
   "execution_count": 119,
   "metadata": {},
   "outputs": [],
   "source": [
    "\n",
    "final_data.loc[final_data['Description'].astype(str).str.contains('TRAFFIC LANE|CENTER LANE|TURN LANE|CHANGING LANES|UNSAFE LANE|DESIGNATED LANE',case=False),\"Description\"]=\"IMPROPER LANECHANGE\"\n",
    "final_data.loc[final_data['Description'].astype(str).str.contains('IMPROPER LANECHANGE',case=False),\"Charge\"] = \"21-309.\""
   ]
  },
  {
   "cell_type": "code",
   "execution_count": 120,
   "metadata": {},
   "outputs": [],
   "source": [
    "final_data.loc[final_data['Description'].astype(str).str.contains('LIGHTED LAMPS|LIGHTED HEAD|LIGHTED',case=False),\"Description\"]=\"WITHOUTLIGHTED HEADLAMPS\"\n",
    "final_data.loc[final_data['Description'].astype(str).str.contains('LIGHTED LAMPS|LIGHTED HEAD|LIGHTED',case=False),\"Charge\"]=\"22-201\""
   ]
  },
  {
   "cell_type": "code",
   "execution_count": 121,
   "metadata": {},
   "outputs": [],
   "source": [
    "final_data.loc[final_data['Description'].astype(str).str.contains('AGGRESSIVE DRIVING|NEGLIGENT DRIVING|RECKLESS DRIVING',case=False),\"Description\"]=\"NEGLIGENT DRIVING\"\n",
    "final_data.loc[final_data['Description'].astype(str).str.contains('AGGRESSIVE DRIVING|NEGLIGENT DRIVING|RECKLESS DRIVING',case=False),\"Charge\"]=\"22-901\""
   ]
  },
  {
   "cell_type": "code",
   "execution_count": 122,
   "metadata": {},
   "outputs": [],
   "source": [
    "final_data.loc[final_data['Description'].astype(str).str.contains('RED SIGNAL|RED TRAFFIC SIGNAL|MAKE REQUIRED STOP|RIGHT-OF-WAY|PAVEMENT MARK|STOP AT SIGN|RED ARROW SIGNAL'),\"Description\"]=\"STOPAT REDSIGNAL\"\n",
    "final_data.loc[final_data['Description'].astype(str).str.contains('STOPAT REDSIGNAL'),\"Charge\"]=\"21-202\""
   ]
  },
  {
   "cell_type": "code",
   "execution_count": 123,
   "metadata": {},
   "outputs": [],
   "source": [
    "final_data.loc[final_data['Description'].astype(str).str.contains('INFLUENCE OF ALCOHOL|ALCOHOL|INFLUENCE OF ALCOHOL|CONTROLLED DANGEROUS SUBSTANCE|IMPAIRED BY DRUGS'),\"Description\"]=\"INFLUENCE OF ALCOHOL\"\n",
    "final_data.loc[final_data['Description'].astype(str).str.contains('INFLUENCE OF ALCOHOL'),\"Charge\"]=\"21-902\""
   ]
  },
  {
   "cell_type": "code",
   "execution_count": 124,
   "metadata": {},
   "outputs": [],
   "source": [
    "final_data.loc[final_data['Description'].astype(str).str.contains('WINDOW TINTING|SAFETY GLASS'),\"Description\"]=\"UNAUTHORIZED WINDOW TINTING\"\n",
    "final_data.loc[final_data['Description'].astype(str).str.contains('UNAUTHORIZED WINDOW TINTING'),\"Charge\"]=\"22-406\""
   ]
  },
  {
   "cell_type": "code",
   "execution_count": 145,
   "metadata": {},
   "outputs": [],
   "source": [
    "final_data.loc[final_data['Description'].astype(str).str.contains('HEADLIGHTS|HEADLIGHT AIM',case=False),\"Description\"]=\"HEADLIGHTS\"\n",
    "final_data.loc[final_data['Description'].astype(str).str.contains('HEADLIGHTS'),\"Charge\"]=\"55\""
   ]
  },
  {
   "cell_type": "code",
   "execution_count": 126,
   "metadata": {},
   "outputs": [],
   "source": [
    "\n",
    "final_data.loc[final_data['Description'].astype(str).str.contains('REQUIRED MINIMUM EQUIPMENT',case=False),\"Description\"]=\"HWY. W/O REQUIRED MINIMUM EQUIPMENT\"\n",
    "final_data.loc[final_data['Description'].astype(str).str.contains('HWY. W/O REQUIRED MINIMUM EQUIPMENT'),\"Charge\"]=\"23-104\"\n"
   ]
  },
  {
   "cell_type": "code",
   "execution_count": 127,
   "metadata": {},
   "outputs": [],
   "source": [
    "s=final_data.Charge.value_counts().gt(7500)\n",
    "new_data=final_data.loc[final_data.Charge.isin(s[s].index)]"
   ]
  },
  {
   "cell_type": "code",
   "execution_count": 149,
   "metadata": {
    "scrolled": true
   },
   "outputs": [
    {
     "data": {
      "text/plain": [
       "Series([], Name: Description, dtype: int64)"
      ]
     },
     "execution_count": 149,
     "metadata": {},
     "output_type": "execute_result"
    }
   ],
   "source": [
    "new_data[new_data['Charge'].astype(str).str.contains('69')].Description.value_counts()\n"
   ]
  },
  {
   "cell_type": "code",
   "execution_count": 129,
   "metadata": {},
   "outputs": [
    {
     "name": "stderr",
     "output_type": "stream",
     "text": [
      "C:\\Users\\lalit\\anaconda\\Anaconda3\\envs\\PythonData\\lib\\site-packages\\pandas\\core\\indexing.py:543: SettingWithCopyWarning: \n",
      "A value is trying to be set on a copy of a slice from a DataFrame.\n",
      "Try using .loc[row_indexer,col_indexer] = value instead\n",
      "\n",
      "See the caveats in the documentation: http://pandas.pydata.org/pandas-docs/stable/indexing.html#indexing-view-versus-copy\n",
      "  self.obj[item] = s\n"
     ]
    }
   ],
   "source": [
    "new_data.loc[new_data['Description'].astype(str).str.contains('LANE NOT IMMED.|EMERG. VEH|MOVE OVER|FAILURE OF DR. '),\"Description\"]=\"FAILURE TO ADJ EMERGENCY VEH\"\n",
    "new_data.loc[new_data['Description'].astype(str).str.contains('FAILURE TO ADJ EMERGENCY VEH'),\"Charge\"]=\"21-405\""
   ]
  },
  {
   "cell_type": "code",
   "execution_count": 130,
   "metadata": {},
   "outputs": [
    {
     "name": "stderr",
     "output_type": "stream",
     "text": [
      "C:\\Users\\lalit\\anaconda\\Anaconda3\\envs\\PythonData\\lib\\site-packages\\pandas\\core\\indexing.py:543: SettingWithCopyWarning: \n",
      "A value is trying to be set on a copy of a slice from a DataFrame.\n",
      "Try using .loc[row_indexer,col_indexer] = value instead\n",
      "\n",
      "See the caveats in the documentation: http://pandas.pydata.org/pandas-docs/stable/indexing.html#indexing-view-versus-copy\n",
      "  self.obj[item] = s\n"
     ]
    }
   ],
   "source": [
    "new_data.loc[new_data['Description'].astype(str).str.contains('RIGHT HALF OF ROADWAY|RIGHT OF CENTER'),\"Description\"]=\"FAILURE TO DRIVE RIGHT\"\n",
    "new_data.loc[new_data['Description'].astype(str).str.contains('FAILURE TO DRIVE RIGHT'),\"Charge\"]=\"21-301\""
   ]
  },
  {
   "cell_type": "code",
   "execution_count": 131,
   "metadata": {},
   "outputs": [
    {
     "name": "stderr",
     "output_type": "stream",
     "text": [
      "C:\\Users\\lalit\\anaconda\\Anaconda3\\envs\\PythonData\\lib\\site-packages\\pandas\\core\\indexing.py:543: SettingWithCopyWarning: \n",
      "A value is trying to be set on a copy of a slice from a DataFrame.\n",
      "Try using .loc[row_indexer,col_indexer] = value instead\n",
      "\n",
      "See the caveats in the documentation: http://pandas.pydata.org/pandas-docs/stable/indexing.html#indexing-view-versus-copy\n",
      "  self.obj[item] = s\n"
     ]
    }
   ],
   "source": [
    "new_data.loc[new_data['Description'].astype(str).str.contains(' WHILE LIC.|WHILE SUSP. UNDER|SUSP|16-303 H|21-901|26-204|FAILURE TO STOP',case=False),\"Description\"]=\"DRIVING WITH SUSP.LICEN\"\n",
    "new_data.loc[new_data['Description'].astype(str).str.contains('DRIVING WITH SUSP.LICEN'),\"Charge\"]=\"16-303\""
   ]
  },
  {
   "cell_type": "code",
   "execution_count": 132,
   "metadata": {},
   "outputs": [
    {
     "name": "stderr",
     "output_type": "stream",
     "text": [
      "C:\\Users\\lalit\\anaconda\\Anaconda3\\envs\\PythonData\\lib\\site-packages\\pandas\\core\\indexing.py:543: SettingWithCopyWarning: \n",
      "A value is trying to be set on a copy of a slice from a DataFrame.\n",
      "Try using .loc[row_indexer,col_indexer] = value instead\n",
      "\n",
      "See the caveats in the documentation: http://pandas.pydata.org/pandas-docs/stable/indexing.html#indexing-view-versus-copy\n",
      "  self.obj[item] = s\n"
     ]
    }
   ],
   "source": [
    "new_data.loc[new_data['Description'].astype(str).str.contains(' UNINSURED VEHICLE|UNINSURED|INSURED|INSURANCE|KNOWINGLY DRIVING|TAG NOT|MARYLAND|UNISURED'),\"Description\"]=\"UNINSURED VEHICLE\"\n",
    "new_data.loc[new_data['Description'].astype(str).str.contains('UNINSURED VEHICLE'),\"Charge\"]=\"17-707\""
   ]
  },
  {
   "cell_type": "code",
   "execution_count": 133,
   "metadata": {},
   "outputs": [
    {
     "name": "stderr",
     "output_type": "stream",
     "text": [
      "C:\\Users\\lalit\\anaconda\\Anaconda3\\envs\\PythonData\\lib\\site-packages\\pandas\\core\\indexing.py:543: SettingWithCopyWarning: \n",
      "A value is trying to be set on a copy of a slice from a DataFrame.\n",
      "Try using .loc[row_indexer,col_indexer] = value instead\n",
      "\n",
      "See the caveats in the documentation: http://pandas.pydata.org/pandas-docs/stable/indexing.html#indexing-view-versus-copy\n",
      "  self.obj[item] = s\n"
     ]
    }
   ],
   "source": [
    "new_data.loc[new_data['Description'].astype(str).str.contains(' TURNING LEFT FAIL|LEFT TURN'),\"Description\"]=\"TURNING LEFT FAIL\"\n",
    "new_data.loc[new_data['Description'].astype(str).str.contains('TURNING LEFT FAIL'),\"Charge\"]=\"21-402\""
   ]
  },
  {
   "cell_type": "code",
   "execution_count": 134,
   "metadata": {},
   "outputs": [
    {
     "name": "stderr",
     "output_type": "stream",
     "text": [
      "C:\\Users\\lalit\\anaconda\\Anaconda3\\envs\\PythonData\\lib\\site-packages\\pandas\\core\\indexing.py:543: SettingWithCopyWarning: \n",
      "A value is trying to be set on a copy of a slice from a DataFrame.\n",
      "Try using .loc[row_indexer,col_indexer] = value instead\n",
      "\n",
      "See the caveats in the documentation: http://pandas.pydata.org/pandas-docs/stable/indexing.html#indexing-view-versus-copy\n",
      "  self.obj[item] = s\n"
     ]
    }
   ],
   "source": [
    "new_data.loc[new_data['Charge'].astype(str).str.contains('TURNING LEFT FAIL'),\"Charge\"]=\"21-402\""
   ]
  },
  {
   "cell_type": "code",
   "execution_count": 146,
   "metadata": {},
   "outputs": [
    {
     "data": {
      "text/plain": [
       "16-303     207734\n",
       "201-801    203611\n",
       "21-201     107368\n",
       "21-1124     99895\n",
       "13-411      77664\n",
       "13-409      62134\n",
       "21-202      56643\n",
       "21-707      42237\n",
       "21-902      38062\n",
       "22-412      31264\n",
       "22-201      31131\n",
       "64          24901\n",
       "21-309.     24900\n",
       "22-901      22673\n",
       "22-406      12157\n",
       "55          11179\n",
       "23-104      10253\n",
       "21-301       9608\n",
       "21-405       9008\n",
       "17-707       7656\n",
       "21-402       7534\n",
       "Name: Charge, dtype: int64"
      ]
     },
     "execution_count": 146,
     "metadata": {},
     "output_type": "execute_result"
    }
   ],
   "source": [
    "new_data.Charge.value_counts()\n"
   ]
  },
  {
   "cell_type": "code",
   "execution_count": 136,
   "metadata": {},
   "outputs": [
    {
     "data": {
      "text/plain": [
       "Index(['Date Of Stop', 'Time Of Stop', 'Description', 'Belts', 'Fatal',\n",
       "       'HAZMAT', 'Alcohol', 'State', 'VehicleType', 'Year Make', 'Make',\n",
       "       'Model', 'Color', 'Violation Type', 'Charge', 'Contributed To Accident',\n",
       "       'Race', 'Gender', 'Driver City', 'DL State', 'Geolocation', 'Year',\n",
       "       'Month'],\n",
       "      dtype='object')"
      ]
     },
     "execution_count": 136,
     "metadata": {},
     "output_type": "execute_result"
    }
   ],
   "source": [
    "new_data.columns\n"
   ]
  },
  {
   "cell_type": "code",
   "execution_count": 137,
   "metadata": {},
   "outputs": [],
   "source": [
    "\n",
    "output_data_CSV=new_data.drop(columns={'Belts', 'Fatal','HAZMAT', 'Alcohol','VehicleType', 'Year Make', 'Make',\n",
    "       'Model', 'Color', 'Violation Type','Driver City', 'DL State'})"
   ]
  },
  {
   "cell_type": "code",
   "execution_count": 147,
   "metadata": {},
   "outputs": [
    {
     "data": {
      "text/plain": [
       "DRIVING WITH SUSP.LICEN                207734\n",
       "SPEEDING                               203611\n",
       "TRAFFIC CONTROLDEVICE                  107368\n",
       "ELECTRONIC DEVICE DISTRACTION           99895\n",
       "DISPLAY REGISTRATION PLATE              77664\n",
       "FAILURE TODISPLAY REGISTRATION CARD     62134\n",
       "STOPAT REDSIGNAL                        56643\n",
       "STOP AT STOP                            42237\n",
       "INFLUENCE OF ALCOHOL                    38062\n",
       "NO SEAT BELT/CHILD SAFTEY               31264\n",
       "WITHOUTLIGHTED HEADLAMPS                31131\n",
       "NOSTOP LIGHTS                           24901\n",
       "IMPROPER LANECHANGE                     24900\n",
       "NEGLIGENT DRIVING                       22673\n",
       "UNAUTHORIZED WINDOW TINTING             12157\n",
       "HEADLIGHTS                              11074\n",
       "HWY. W/O REQUIRED MINIMUM EQUIPMENT     10253\n",
       "FAILURE TO DRIVE RIGHT                   9608\n",
       "FAILURE TO ADJ EMERGENCY VEH             9008\n",
       "UNINSURED VEHICLE                        7656\n",
       "TURNING LEFT FAIL                        7534\n",
       "HEADLIGHT AIM                              69\n",
       "Headlight Aim                              36\n",
       "Name: Description, dtype: int64"
      ]
     },
     "execution_count": 147,
     "metadata": {},
     "output_type": "execute_result"
    }
   ],
   "source": [
    "output_data_CSV.Description.value_counts()\n",
    "\n",
    "\n"
   ]
  },
  {
   "cell_type": "code",
   "execution_count": 157,
   "metadata": {},
   "outputs": [],
   "source": [
    "Traffic_final_data=output_data_CSV[output_data_CSV.Description.str.contains(\"HEADLIGHT AIM|Headlight Aim\") == False]"
   ]
  },
  {
   "cell_type": "code",
   "execution_count": 159,
   "metadata": {},
   "outputs": [],
   "source": [
    "Traffic_final_data.to_csv(\"Traffic_violations_final.csv\", encoding=\"utf-8\", index=False)"
   ]
  },
  {
   "cell_type": "code",
   "execution_count": 153,
   "metadata": {},
   "outputs": [
    {
     "data": {
      "text/plain": [
       "DRIVING WITH SUSP.LICEN                207734\n",
       "SPEEDING                               203611\n",
       "TRAFFIC CONTROLDEVICE                  107368\n",
       "ELECTRONIC DEVICE DISTRACTION           99895\n",
       "DISPLAY REGISTRATION PLATE              77664\n",
       "FAILURE TODISPLAY REGISTRATION CARD     62134\n",
       "STOPAT REDSIGNAL                        56643\n",
       "STOP AT STOP                            42237\n",
       "INFLUENCE OF ALCOHOL                    38062\n",
       "NO SEAT BELT/CHILD SAFTEY               31264\n",
       "WITHOUTLIGHTED HEADLAMPS                31131\n",
       "NOSTOP LIGHTS                           24901\n",
       "IMPROPER LANECHANGE                     24900\n",
       "NEGLIGENT DRIVING                       22673\n",
       "UNAUTHORIZED WINDOW TINTING             12157\n",
       "HEADLIGHTS                              11074\n",
       "HWY. W/O REQUIRED MINIMUM EQUIPMENT     10253\n",
       "FAILURE TO DRIVE RIGHT                   9608\n",
       "FAILURE TO ADJ EMERGENCY VEH             9008\n",
       "UNINSURED VEHICLE                        7656\n",
       "TURNING LEFT FAIL                        7534\n",
       "Name: Description, dtype: int64"
      ]
     },
     "execution_count": 153,
     "metadata": {},
     "output_type": "execute_result"
    }
   ],
   "source": [
    "Traffic_final_data.Description.value_counts()"
   ]
  },
  {
   "cell_type": "code",
   "execution_count": 155,
   "metadata": {},
   "outputs": [
    {
     "data": {
      "text/plain": [
       "16-303     207734\n",
       "201-801    203611\n",
       "21-201     107368\n",
       "21-1124     99895\n",
       "13-411      77664\n",
       "13-409      62134\n",
       "21-202      56643\n",
       "21-707      42237\n",
       "21-902      38062\n",
       "22-412      31264\n",
       "22-201      31131\n",
       "64          24901\n",
       "21-309.     24900\n",
       "22-901      22673\n",
       "22-406      12157\n",
       "55          11074\n",
       "23-104      10253\n",
       "21-301       9608\n",
       "21-405       9008\n",
       "17-707       7656\n",
       "21-402       7534\n",
       "Name: Charge, dtype: int64"
      ]
     },
     "execution_count": 155,
     "metadata": {},
     "output_type": "execute_result"
    }
   ],
   "source": [
    "Traffic_final_data.Charge.value_counts()"
   ]
  },
  {
   "cell_type": "code",
   "execution_count": null,
   "metadata": {},
   "outputs": [],
   "source": []
  }
 ],
 "metadata": {
  "kernelspec": {
   "display_name": "Python [default]",
   "language": "python",
   "name": "python3"
  },
  "language_info": {
   "codemirror_mode": {
    "name": "ipython",
    "version": 3
   },
   "file_extension": ".py",
   "mimetype": "text/x-python",
   "name": "python",
   "nbconvert_exporter": "python",
   "pygments_lexer": "ipython3",
   "version": "3.6.5"
  }
 },
 "nbformat": 4,
 "nbformat_minor": 2
}
